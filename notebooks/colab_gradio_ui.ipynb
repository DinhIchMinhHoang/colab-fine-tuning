{
 "cells": [
  {
   "cell_type": "markdown",
   "id": "f4f54606",
   "metadata": {},
   "source": [
    "# F5-TTS Colab: Gradio Web UI Workflow\n",
    "\n",
    "This notebook provides a minimal workflow to:\n",
    "1. Clone your F5-TTS repository\n",
    "2. Install all required packages\n",
    "3. Launch the Gradio web UI for F5-TTS\n",
    "4. Access and interact with the web interface\n",
    "\n",
    "> **Tip:** Run each cell in order. Once the Gradio UI is running, you can do all further work from the web interface."
   ]
  },
  {
   "cell_type": "markdown",
   "id": "613f1943",
   "metadata": {},
   "source": [
    "## 1. Clone the Repository\n",
    "Clone your F5-TTS repo from GitHub. If it already exists, this will do nothing."
   ]
  },
  {
   "cell_type": "code",
   "execution_count": null,
   "id": "0ea652e7",
   "metadata": {},
   "outputs": [],
   "source": [
    "# Clone the F5-TTS repo (replace with your repo if needed)\n",
    "import os\n",
    "repo_url = \"https://github.com/DinhIchMinhHoang/colab-fine-tuning.git\"\n",
    "repo_dir = \"/content/colab-fine-tuning\"\n",
    "if not os.path.exists(repo_dir):\n",
    "    !git clone {repo_url} {repo_dir}\n",
    "else:\n",
    "    print(\"Repo already cloned.\")\n",
    "%cd {repo_dir}"
   ]
  },
  {
   "cell_type": "markdown",
   "id": "1428e902",
   "metadata": {},
   "source": [
    "## 2. Install Required Packages\n",
    "Install all dependencies, including Gradio, from requirements.txt and pip."
   ]
  },
  {
   "cell_type": "code",
   "execution_count": null,
   "id": "2913f4a5",
   "metadata": {},
   "outputs": [],
   "source": [
    "# Install dependencies (edit as needed for your repo)\n",
    "!pip install -U pip\n",
    "!pip install -r requirements.txt\n",
    "!pip install -e .\n",
    "!pip install tensorboard\n",
    "def install_gradio():\n",
    "    try:\n",
    "        import gradio\n",
    "    except ImportError:\n",
    "        !pip install gradio\n",
    "install_gradio()\n",
    "!apt-get install -y ffmpeg"
   ]
  },
  {
   "cell_type": "markdown",
   "id": "22df5dcf",
   "metadata": {},
   "source": [
    "## 3. Launch Gradio Training Web UI\n",
    "\n",
    "Start the Gradio training web interface for F5-TTS. This will provide a public link for you to access the UI.\n",
    "\n",
    "> **Note:** In Colab, always use the public Gradio link (ending with `gradio.live` or similar). Do NOT use the 127.0.0.1 link, as it will not work."
   ]
  },
  {
   "cell_type": "code",
   "execution_count": null,
   "id": "cfd579d8",
   "metadata": {},
   "outputs": [],
   "source": [
    "# Launch the Gradio training web UI (edit the script path if needed)\n",
    "\n",
    "!python src/f5_tts/train/finetune_gradio.py --share"
   ]
  },
  {
   "cell_type": "markdown",
   "id": "a302bae8",
   "metadata": {},
   "source": [
    "## 4. Interact with the Gradio Interface\n",
    "Once the cell above runs, you’ll see a public Gradio link. Open it in your browser to use the F5-TTS web UI for inference, synthesis, or any other supported features."
   ]
  },
  {
   "cell_type": "markdown",
   "id": "dd3a5fe9",
   "metadata": {},
   "source": [
    "## 5. Save Your Work to Google Drive\n",
    "To avoid losing your model checkpoints and logs when Colab disconnects, copy your results to Google Drive before ending your session.\n",
    "\n",
    "**Steps:**\n",
    "1. Mount your Google Drive.\n",
    "2. Copy the experiment folder (e.g., `exp/F5TTS_v1_Base`) to your Drive.\n",
    "\n",
    "You can also download zipped results directly if preferred."
   ]
  },
  {
   "cell_type": "code",
   "execution_count": null,
   "id": "eb609621",
   "metadata": {},
   "outputs": [],
   "source": [
    "# Save only checkpoints and data folders to Google Drive\n",
    "from google.colab import drive\n",
    "import shutil\n",
    "\n",
    "drive.mount('/content/drive')\n",
    "# Save checkpoints\n",
    "shutil.copytree('ckpts/vietnamese', '/content/drive/MyDrive/ckpts_vietnamese', dirs_exist_ok=True)\n",
    "print('Copied ckpts/vietnamese to /content/drive/MyDrive/ckpts_vietnamese')\n",
    "# Save data\n",
    "shutil.copytree('data/vietnamese_char', '/content/drive/MyDrive/data_vietnamese_char', dirs_exist_ok=True)\n",
    "print('Copied data/vietnamese_char to /content/drive/MyDrive/data_vietnamese_char')"
   ]
  },
  {
   "cell_type": "code",
   "execution_count": null,
   "id": "d4c55e7a",
   "metadata": {},
   "outputs": [],
   "source": [
    "# Upload a zip file, extract it, and continue training\n",
    "from google.colab import files\n",
    "import zipfile\n",
    "import os\n",
    "\n",
    "# Upload the zip file (e.g., containing ckpts and data)\n",
    "uploaded = files.upload()\n",
    "zip_path = next(iter(uploaded))  # Get the uploaded file name\n",
    "\n",
    "# Extract the zip file to the current directory\n",
    "with zipfile.ZipFile(zip_path, 'r') as zip_ref:\n",
    "    zip_ref.extractall('.')\n",
    "print(f'Extracted {zip_path} to current directory')\n",
    "\n",
    "# Now you can continue training as usual (your folders will be restored)"
   ]
  }
 ],
 "metadata": {
  "language_info": {
   "name": "python"
  }
 },
 "nbformat": 4,
 "nbformat_minor": 5
}
