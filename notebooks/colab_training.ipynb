{
 "cells": [
  {
   "cell_type": "code",
   "execution_count": null,
   "id": "388273eb",
   "metadata": {},
   "outputs": [],
   "source": [
    "# 4. Start training using your checkpoint from ckpts\n",
    "!accelerate launch \\\n",
    "    --mixed_precision=fp16 \\\n",
    "    src/f5_tts/train/finetune_cli.py \\\n",
    "    --exp_name F5TTS_v1_Base \\\n",
    "    --learning_rate 5e-5 \\\n",
    "    --batch_size_per_gpu 6000 \\\n",
    "    --batch_size_type frame \\\n",
    "    --max_samples 32 \\\n",
    "    --grad_accumulation_steps 2 \\\n",
    "    --max_grad_norm 1 \\\n",
    "    --epochs 50 \\\n",
    "    --num_warmup_updates 5000 \\\n",
    "    --save_per_updates 10000 \\\n",
    "    --keep_last_n_checkpoints 3 \\\n",
    "    --last_per_updates 2000 \\\n",
    "    --dataset_name vietnamese \\\n",
    "    --finetune \\\n",
    "    --pretrain F5-TTS/ckpts/vietnamese/pretrained_model_1250000.safetensors \\\n",
    "    --tokenizer char \\\n",
    "    --logger tensorboard \\\n",
    "    --log_samples"
   ]
  },
  {
   "cell_type": "code",
   "execution_count": null,
   "id": "7d6df0ec",
   "metadata": {},
   "outputs": [],
   "source": [
    "# 3. Check environment: GPU, Python, disk\n",
    "import torch, sys\n",
    "!nvidia-smi\n",
    "print(f\"Python version: {sys.version}\")\n",
    "if torch.cuda.is_available():\n",
    "    print(f\"CUDA device: {torch.cuda.get_device_name(0)}\")\n",
    "    print(f\"CUDA memory: {torch.cuda.get_device_properties(0).total_memory / 1024**3:.1f} GB\")\n",
    "else:\n",
    "    print(\"No GPU available!\")\n",
    "!df -h"
   ]
  },
  {
   "cell_type": "code",
   "execution_count": null,
   "id": "b92e8241",
   "metadata": {},
   "outputs": [],
   "source": [
    "# 2. Install required packages\n",
    "!pip install -U pip\n",
    "!pip install torch torchaudio tensorboard accelerate git-lfs\n",
    "!apt-get install -y ffmpeg\n",
    "!git lfs install\n",
    "!git lfs pull"
   ]
  },
  {
   "cell_type": "code",
   "execution_count": null,
   "id": "60670c83",
   "metadata": {},
   "outputs": [],
   "source": [
    "# 1. Update or clone your repo from GitHub\n",
    "import os\n",
    "repo_dir = \"/content/colab-fine-tuning\"\n",
    "if os.path.exists(repo_dir):\n",
    "    %cd /content/colab-fine-tuning\n",
    "    !git pull\n",
    "else:\n",
    "    %cd /content\n",
    "    !git clone https://github.com/DinhIchMinhHoang/colab-fine-tuning.git\n",
    "    %cd /content/colab-fine-tuning"
   ]
  },
  {
   "cell_type": "markdown",
   "id": "4bf7af4f",
   "metadata": {},
   "source": [
    "# F5-TTS Colab Training (Minimal & Clean)\n",
    "\n",
    "This notebook provides a robust, minimal workflow for training F5-TTS on Colab:\n",
    "\n",
    "1. Update or clone your repo from GitHub\n",
    "2. Install all required packages (including LFS and ffmpeg)\n",
    "3. Check environment (GPU, Python, disk)\n",
    "4. Start training using your checkpoint from ckpts\n",
    "5. Backup/download models and logs\n",
    "6. (Optional) Update code from GitHub after local changes\n",
    "\n",
    "> **Tip:** Run each cell in order for a clean, reproducible training session."
   ]
  },
  {
   "cell_type": "code",
   "execution_count": null,
   "id": "af689df0",
   "metadata": {},
   "outputs": [],
   "source": [
    "# 5. Backup/download models and logs\n",
    "!tar -czf vietnamese_model_checkpoints.tar.gz ckpts/\n",
    "!tar -czf training_logs.tar.gz logs/\n",
    "from google.colab import files\n",
    "files.download('vietnamese_model_checkpoints.tar.gz')\n",
    "files.download('training_logs.tar.gz')"
   ]
  },
  {
   "cell_type": "code",
   "execution_count": null,
   "id": "3dd56b9b",
   "metadata": {},
   "outputs": [],
   "source": [
    "# 6. (Optional) Update code from GitHub after local changes\n",
    "!git pull origin main\n",
    "!pip install -e . --force-reinstall\n",
    "print(\"Code updated from GitHub repository!\")"
   ]
  }
 ],
 "metadata": {
  "language_info": {
   "name": "python"
  }
 },
 "nbformat": 4,
 "nbformat_minor": 5
}
