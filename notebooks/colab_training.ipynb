{
 "cells": [
  {
   "cell_type": "markdown",
   "id": "e630fe10",
   "metadata": {},
   "source": [
    "# F5-TTS Vietnamese Training on Google Colab\n",
    "\n",
    "This notebook allows you to train F5-TTS with Vietnamese data on Google Colab while developing locally in VS Code.\n",
    "\n",
    "## Setup Instructions:\n",
    "1. Upload this notebook to Google Colab\n",
    "2. Ensure your Vietnamese dataset is uploaded to Google Drive\n",
    "3. Run the cells in order\n",
    "4. Monitor training progress via TensorBoard"
   ]
  },
  {
   "cell_type": "markdown",
   "id": "ef63e4e8",
   "metadata": {},
   "source": [
    "## 1. Check GPU and System Info"
   ]
  },
  {
   "cell_type": "code",
   "execution_count": null,
   "id": "a9197eaa",
   "metadata": {},
   "outputs": [],
   "source": [
    "# Check GPU availability and specs\n",
    "!nvidia-smi\n",
    "\n",
    "# Check Python version\n",
    "import sys\n",
    "print(f\"Python version: {sys.version}\")\n",
    "\n",
    "# Check available disk space\n",
    "!df -h"
   ]
  },
  {
   "cell_type": "markdown",
   "id": "c593991a",
   "metadata": {},
   "source": [
    "## 2. Setup F5-TTS Environment"
   ]
  },
  {
   "cell_type": "code",
   "execution_count": null,
   "id": "30676fef",
   "metadata": {},
   "outputs": [],
   "source": [
    "# Clone your F5-TTS repository (replace with your GitHub repo URL)\n",
    "!git clone https://github.com/SWivid/F5-TTS.git\n",
    "%cd F5-TTS\n",
    "\n",
    "# Install F5-TTS in development mode\n",
    "!pip install -e .\n",
    "\n",
    "# Install additional dependencies for training\n",
    "!pip install tensorboard accelerate transformers\n",
    "\n",
    "# Install compatible numpy version\n",
    "!pip install \"numpy<2.0\"\n",
    "\n",
    "# Verify installation\n",
    "import torch\n",
    "print(f\"PyTorch version: {torch.__version__}\")\n",
    "print(f\"CUDA available: {torch.cuda.is_available()}\")\n",
    "if torch.cuda.is_available():\n",
    "    print(f\"GPU: {torch.cuda.get_device_name(0)}\")\n",
    "    print(f\"GPU memory: {torch.cuda.get_device_properties(0).total_memory / 1024**3:.1f} GB\")"
   ]
  },
  {
   "cell_type": "markdown",
   "id": "6973c1aa",
   "metadata": {},
   "source": [
    "## 3. Verify Data (Already included in repository)"
   ]
  },
  {
   "cell_type": "code",
   "execution_count": null,
   "id": "209b3251",
   "metadata": {},
   "outputs": [],
   "source": [
    "# Data is already included in the GitHub repository\n",
    "# No need to mount Google Drive or copy data separately\n",
    "\n",
    "# Verify data is available\n",
    "!ls -la data/vietnamese_char/\n",
    "!head -5 data/vietnamese_char/sample.csv\n",
    "\n",
    "# Check number of audio files\n",
    "!echo \"Number of audio files:\"\n",
    "!ls data/vietnamese_char/wavs/ | wc -l"
   ]
  },
  {
   "cell_type": "markdown",
   "id": "c2b4a6f2",
   "metadata": {},
   "source": [
    "## 4. Download Pretrained Models"
   ]
  },
  {
   "cell_type": "code",
   "execution_count": null,
   "id": "7c73c342",
   "metadata": {},
   "outputs": [],
   "source": [
    "# Create checkpoint directory\n",
    "!mkdir -p ckpts\n",
    "\n",
    "# Download F5-TTS base model for fine-tuning\n",
    "!wget -O ckpts/F5TTS_Base_model.pt \"https://huggingface.co/SWivid/F5-TTS/resolve/main/F5TTS_Base/model_1200000.pt\"\n",
    "\n",
    "# Verify download\n",
    "!ls -lh ckpts/"
   ]
  },
  {
   "cell_type": "markdown",
   "id": "685a5350",
   "metadata": {},
   "source": [
    "## 5. Configure Training (Colab-Optimized)"
   ]
  },
  {
   "cell_type": "code",
   "execution_count": null,
   "id": "bf341698",
   "metadata": {},
   "outputs": [],
   "source": [
    "# Check available GPU memory to optimize batch size\n",
    "import torch\n",
    "if torch.cuda.is_available():\n",
    "    gpu_memory = torch.cuda.get_device_properties(0).total_memory / 1024**3\n",
    "    print(f\"Available GPU memory: {gpu_memory:.1f} GB\")\n",
    "    \n",
    "    # Recommend batch size based on GPU memory\n",
    "    if gpu_memory >= 24:  # A100\n",
    "        batch_size = 12000\n",
    "        max_samples = 64\n",
    "    elif gpu_memory >= 16:  # V100\n",
    "        batch_size = 8000\n",
    "        max_samples = 48\n",
    "    else:  # T4\n",
    "        batch_size = 6000\n",
    "        max_samples = 32\n",
    "        \n",
    "    print(f\"Recommended batch_size_per_gpu: {batch_size}\")\n",
    "    print(f\"Recommended max_samples: {max_samples}\")\n",
    "else:\n",
    "    print(\"No GPU available!\")"
   ]
  },
  {
   "cell_type": "markdown",
   "id": "63bb6413",
   "metadata": {},
   "source": [
    "## 6. Start TensorBoard (Optional - for monitoring)"
   ]
  },
  {
   "cell_type": "code",
   "execution_count": null,
   "id": "f70da6f8",
   "metadata": {},
   "outputs": [],
   "source": [
    "# Load TensorBoard extension\n",
    "%load_ext tensorboard\n",
    "\n",
    "# Start TensorBoard (run this in background)\n",
    "%tensorboard --logdir logs/ --port 6006"
   ]
  },
  {
   "cell_type": "markdown",
   "id": "a8058274",
   "metadata": {},
   "source": [
    "## 7. Start Training"
   ]
  },
  {
   "cell_type": "code",
   "execution_count": null,
   "id": "432d935b",
   "metadata": {},
   "outputs": [],
   "source": [
    "# Fine-tuning command optimized for Colab\n",
    "# Adjust batch_size_per_gpu and max_samples based on your GPU memory from cell above\n",
    "\n",
    "!accelerate launch \\\n",
    "    --mixed_precision=fp16 \\\n",
    "    src/f5_tts/train/finetune_cli.py \\\n",
    "    --exp_name F5TTS_vietnamese_colab \\\n",
    "    --learning_rate 5e-5 \\\n",
    "    --batch_size_per_gpu 6000 \\\n",
    "    --batch_size_type frame \\\n",
    "    --max_samples 32 \\\n",
    "    --grad_accumulation_steps 2 \\\n",
    "    --max_grad_norm 1 \\\n",
    "    --epochs 50 \\\n",
    "    --num_warmup_updates 5000 \\\n",
    "    --save_per_updates 10000 \\\n",
    "    --keep_last_n_checkpoints 3 \\\n",
    "    --last_per_updates 2000 \\\n",
    "    --dataset_name vietnamese \\\n",
    "    --finetune \\\n",
    "    --tokenizer char \\\n",
    "    --logger tensorboard \\\n",
    "    --log_samples"
   ]
  },
  {
   "cell_type": "markdown",
   "id": "ba20a6c7",
   "metadata": {},
   "source": [
    "## 8. Save and Backup Models"
   ]
  },
  {
   "cell_type": "code",
   "execution_count": null,
   "id": "af689df0",
   "metadata": {},
   "outputs": [],
   "source": [
    "# Compress and download checkpoints directly\n",
    "!tar -czf vietnamese_model_checkpoints.tar.gz ckpts/\n",
    "\n",
    "# Also save logs\n",
    "!tar -czf training_logs.tar.gz logs/\n",
    "\n",
    "# Download to local machine\n",
    "from google.colab import files\n",
    "files.download('vietnamese_model_checkpoints.tar.gz')\n",
    "files.download('training_logs.tar.gz')\n",
    "\n",
    "# Optional: Save to Google Drive as backup\n",
    "# from google.colab import drive\n",
    "# drive.mount('/content/drive')\n",
    "# !cp vietnamese_model_checkpoints.tar.gz \"/content/drive/MyDrive/\"\n",
    "# !cp training_logs.tar.gz \"/content/drive/MyDrive/\"\n",
    "\n",
    "print(\"Models ready for download!\")"
   ]
  },
  {
   "cell_type": "markdown",
   "id": "12d74475",
   "metadata": {},
   "source": [
    "## 9. Update Code from Local Development (Run when needed)"
   ]
  },
  {
   "cell_type": "code",
   "execution_count": null,
   "id": "3dd56b9b",
   "metadata": {},
   "outputs": [],
   "source": [
    "# Pull latest changes from your GitHub repository\n",
    "# Run this cell when you've made changes locally and pushed to GitHub\n",
    "\n",
    "%cd F5-TTS\n",
    "!git pull origin main\n",
    "\n",
    "# Reinstall if you made changes to the package\n",
    "!pip install -e . --force-reinstall\n",
    "\n",
    "print(\"Code updated from GitHub repository!\")"
   ]
  }
 ],
 "metadata": {
  "language_info": {
   "name": "python"
  }
 },
 "nbformat": 4,
 "nbformat_minor": 5
}
